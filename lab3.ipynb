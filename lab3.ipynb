{
 "cells": [
  {
   "cell_type": "code",
   "execution_count": 2,
   "metadata": {},
   "outputs": [],
   "source": [
    "from modules.registration import regValidation\n",
    "from modules.login import logValidation\n",
    "from modules.project import addProject\n",
    "from modules.project import viewAllProjects\n",
    "from modules.project import EditaProject\n",
    "from modules.project import deleteaProject\n",
    "from modules.project import searchwithDate\n",
    "def mainmenu():\n",
    "    loginFlag=False\n",
    "    while True:\n",
    "        choice=input (\"enter 'l' for login , 'r' for register,'a' to add project ,'v' view all projects ,'e' to edit a project , 'd' to delete project,'sd' to search with date,'ex' to exit\")\n",
    "        if choice =='l':\n",
    "            loginFlag=True\n",
    "            Email=logValidation()\n",
    "        elif choice =='r':\n",
    "            regValidation()\n",
    "        elif choice == 'a':\n",
    "            if loginFlag:\n",
    "                addProject(Email)\n",
    "            else:\n",
    "                loginFlag=True\n",
    "                Email=logValidation()\n",
    "                addProject(Email)\n",
    "        elif choice == 'v':\n",
    "            if loginFlag:\n",
    "                viewAllProjects()\n",
    "            else:\n",
    "                loginFlag=True\n",
    "                Email=logValidation()\n",
    "                viewAllProjects()\n",
    "        elif choice == 'e':\n",
    "            if loginFlag:\n",
    "                EditaProject(Email)\n",
    "            else:\n",
    "                loginFlag=True\n",
    "                Email=logValidation()\n",
    "                EditaProject(Email)\n",
    "        elif choice == 'd':\n",
    "            if loginFlag:\n",
    "                deleteaProject(Email)\n",
    "            else:\n",
    "                loginFlag=True\n",
    "                Email=logValidation()\n",
    "                deleteaProject(Email)\n",
    "        elif choice == 'sd':\n",
    "            if loginFlag:\n",
    "                searchwithDate()\n",
    "            else:\n",
    "                loginFlag=True\n",
    "                Email=logValidation()\n",
    "                searchwithDate()\n",
    "        elif choice=='ex':\n",
    "            break\n",
    "\n",
    "\n",
    "mainmenu()\n"
   ]
  }
 ],
 "metadata": {
  "interpreter": {
   "hash": "7fba125f1cf0ddbfc81afb71ccf82556778cd40aa80bdf5af5b98a29a41ee899"
  },
  "kernelspec": {
   "display_name": "Python 3.10.2 64-bit",
   "language": "python",
   "name": "python3"
  },
  "language_info": {
   "codemirror_mode": {
    "name": "ipython",
    "version": 3
   },
   "file_extension": ".py",
   "mimetype": "text/x-python",
   "name": "python",
   "nbconvert_exporter": "python",
   "pygments_lexer": "ipython3",
   "version": "3.10.2"
  },
  "orig_nbformat": 4
 },
 "nbformat": 4,
 "nbformat_minor": 2
}
